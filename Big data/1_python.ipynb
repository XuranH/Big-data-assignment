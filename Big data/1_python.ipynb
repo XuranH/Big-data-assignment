{
  "nbformat": 4,
  "nbformat_minor": 0,
  "metadata": {
    "kernelspec": {
      "display_name": "Python 2",
      "language": "python",
      "name": "python2"
    },
    "language_info": {
      "mimetype": "text/x-python",
      "name": "python",
      "pygments_lexer": "ipython2",
      "codemirror_mode": {
        "name": "ipython",
        "version": 2
      },
      "version": "2.7.9",
      "nbconvert_exporter": "python",
      "file_extension": ".py"
    },
    "name": "1-python",
    "notebookId": 3047179637077656,
    "colab": {
      "name": "1-python.ipynb",
      "provenance": [],
      "collapsed_sections": [
        "rSpPZ8q0tRJq",
        "hIXo-hJ_tRJ0"
      ]
    }
  },
  "cells": [
    {
      "cell_type": "markdown",
      "metadata": {
        "id": "UsbuB0aetRGj"
      },
      "source": [
        "# Notebook 1: Python Overview\n",
        "\n",
        "## Motivations\n",
        "\n",
        "Spark provides multiple *Application Programming Interfaces* (API), i.e. the interface allowing the user to interact with the application. The main APIs are [Scala](http://spark.apache.org/docs/latest/api/scala/index.html#org.apache.spark.package) and [Java](http://spark.apache.org/docs/latest/api/java/index.html) APIs, as Spark is implemented in Scala and runs on the Java Virtual Machine (JVM).\n",
        "Since the 0.7.0 version, a [Python API](http://spark.apache.org/docs/latest/api/python/index.html) is available, also known as PySpark. An [R API](http://spark.apache.org/docs/latest/api/R/index.html) has been released with 1.5.0 version. During this course, you will be using Spark 2.4.4.\n",
        "\n",
        "Throughout this course we will use the Python API for the following reasons:\n",
        "- R API is still too young and limited to be relied on. Besides, R can quickly become a living hell when using immature libraries.\n",
        "- Many of you are wanabee datascientists, and Python is a must-know language in data industry.\n",
        "- Scala and Java APIs would have been quite hard to learn given the length of the course and your actual programming skills.\n",
        "- Python is easy to learn, and even easier if you are already familiar with R.\n",
        "\n",
        "The goal of this session is to teach (or remind) you the syntax of basic operations, control structures and declarations in Python that will be useful as datascientist. Keep in mind that we do not have a lot of time, and that you should be able to create functions and classes and to manipulate them at the end of the lab. If you don't get that, the rest of the course will be hard to follow. Don't hesitate to ask for explanations and/or more exercises if you don't feel  confident enough at the end of the lab.\n",
        "\n",
        "**Note:** Python comes in two flavours, Python 2 and Python 3. Python 2 is now officially deprecated so there is no longer any support. However, a lot of companies have still a lot of code in Python 2 (Tensorflow only supports python 3 since 2019 and Google is well known for his extensive use of Python 2). In this course, we will use Python 3 rather than Python 2. Note that if you know Python 2, learning Python 3 will be lightning-fast.\n",
        "For those who are interested, you can quickly learn Python 3 syntax [over here](https://learnxinyminutes.com/docs/python3/) or find some [cheatsheets](http://ptgmedia.pearsoncmg.com/imprint_downloads/informit/promotions/python/python2python3.pdf) highlighting the differences between the two versions. Spark Python API is compatible with Python 3 since Spark 1.4.0.\n",
        "\n",
        "When you look at stackoverflow, please be aware that they might share snippets of code in another python version and that you might need to translate them. So no stupid copy-paste.\n",
        "\n",
        "*This introduction relies on [Learn Python in Y minutes](https://learnxinyminutes.com/docs/python/)*\n",
        "\n",
        "## Introduction\n",
        "\n",
        "Python is a high level, general-purpose interpreted language. Python is meant to be very concise and readable, it is thus a very pleasant language to work with. \n",
        "\n",
        "## 1. Primitive Datatypes and Operators\n",
        "Read section 1 of [Learn python in Y Minutes](https://learnxinyminutes.com/docs/python/) (if you already know Python, you can skip this step). Then, replace `???` in the following cells with your code to answer the questions. To get started, please run the following cell."
      ]
    },
    {
      "cell_type": "markdown",
      "metadata": {
        "id": "xaJAXdwatRHB"
      },
      "source": [
        "Compute 4 + 8"
      ]
    },
    {
      "cell_type": "code",
      "execution_count": null,
      "metadata": {
        "colab": {
          "base_uri": "https://localhost:8080/"
        },
        "id": "kxvDBoUltRHD",
        "outputId": "15eca271-418a-4c21-81c8-33f6858a03b3"
      },
      "outputs": [
        {
          "output_type": "stream",
          "name": "stdout",
          "text": [
            "12\n"
          ]
        }
      ],
      "source": [
        "a=4+8\n",
        "print (a)"
      ]
    },
    {
      "cell_type": "markdown",
      "metadata": {
        "id": "uumGlRjUtRHQ"
      },
      "source": [
        "Compute 4 * 8"
      ]
    },
    {
      "cell_type": "code",
      "execution_count": null,
      "metadata": {
        "colab": {
          "base_uri": "https://localhost:8080/"
        },
        "id": "V88uqJeatRHS",
        "outputId": "91a46218-48b4-4af2-affd-90cb8d484ab0"
      },
      "outputs": [
        {
          "output_type": "stream",
          "name": "stdout",
          "text": [
            "32\n"
          ]
        }
      ],
      "source": [
        "b=4*8\n",
        "print(b)"
      ]
    },
    {
      "cell_type": "markdown",
      "metadata": {
        "id": "iFsOahCatRHd"
      },
      "source": [
        "Compute 4 / 8 (using the regular division operation, not integer division)"
      ]
    },
    {
      "cell_type": "code",
      "execution_count": null,
      "metadata": {
        "colab": {
          "base_uri": "https://localhost:8080/"
        },
        "id": "TolXN7L5tRHg",
        "outputId": "b299d7f6-b991-4d2f-f679-702a41cfaeaf"
      },
      "outputs": [
        {
          "output_type": "stream",
          "name": "stdout",
          "text": [
            "0.5\n"
          ]
        }
      ],
      "source": [
        "c=4/8\n",
        "print(c)"
      ]
    },
    {
      "cell_type": "markdown",
      "metadata": {
        "id": "_c6HdYD_mSVN"
      },
      "source": [
        "Compute $4^8$"
      ]
    },
    {
      "cell_type": "code",
      "execution_count": null,
      "metadata": {
        "colab": {
          "base_uri": "https://localhost:8080/"
        },
        "id": "LL39uzk6mSVO",
        "outputId": "0e12eee2-fc97-4818-f74a-321a5bc58b5e"
      },
      "outputs": [
        {
          "output_type": "stream",
          "name": "stdout",
          "text": [
            "65536\n"
          ]
        }
      ],
      "source": [
        "d=4**8\n",
        "print(d)"
      ]
    },
    {
      "cell_type": "markdown",
      "metadata": {
        "id": "BDOxUKpjtRHy"
      },
      "source": [
        "Check if the variable `foo` is None:"
      ]
    },
    {
      "cell_type": "code",
      "execution_count": null,
      "metadata": {
        "colab": {
          "base_uri": "https://localhost:8080/"
        },
        "id": "1KIB_tlwtRH0",
        "outputId": "8f3bcfa5-79b7-49bd-c405-45c34cac2f47"
      },
      "outputs": [
        {
          "output_type": "execute_result",
          "data": {
            "text/plain": [
              "NoneType"
            ]
          },
          "metadata": {},
          "execution_count": 8
        }
      ],
      "source": [
        "foo = None\n",
        "type(foo)"
      ]
    },
    {
      "cell_type": "markdown",
      "metadata": {
        "collapsed": true,
        "id": "t1lgdo-BtRH-"
      },
      "source": [
        "## 2. Variables and Collections\n",
        "Same as before, read the corresponding section, and answer the questions below.\n",
        "\n",
        "Now you're asked to `print` your results instead of just output them.\n",
        "\n",
        "Please always remember that there is a difference between the output of your code (which is the result of the last executed line) and the printed output."
      ]
    },
    {
      "cell_type": "code",
      "execution_count": null,
      "metadata": {
        "colab": {
          "base_uri": "https://localhost:8080/"
        },
        "id": "6B9ujdedmSVR",
        "outputId": "130ffcce-c2d8-421a-fd54-4bc5a8cef69a"
      },
      "outputs": [
        {
          "output_type": "stream",
          "name": "stdout",
          "text": [
            "This is a text\n",
            "This is another text\n"
          ]
        }
      ],
      "source": [
        "txt = \"This is a text\"\n",
        "print(txt)\n",
        "new_txt = \"This is another text\" # assignment doesn't return anything\n",
        "# Try uncommenting the following lines to check your understanding\n",
        "# txt # return the value of txt\n",
        "# new_txt # return the value of new_txt\n",
        "print(new_txt)"
      ]
    },
    {
      "cell_type": "code",
      "execution_count": null,
      "metadata": {
        "colab": {
          "base_uri": "https://localhost:8080/"
        },
        "id": "4HRJAJZTtRH_",
        "outputId": "140d3e4c-870c-4ec6-fbb2-ce27e6bbf4bd"
      },
      "outputs": [
        {
          "output_type": "stream",
          "name": "stdout",
          "text": [
            "0.3\n"
          ]
        }
      ],
      "source": [
        "# Declare a variable containing a float of your choice and print it\n",
        "# From now on, when you will be asked to print something, please use the print statement.\n",
        "x=0.3\n",
        "print(x)"
      ]
    },
    {
      "cell_type": "code",
      "execution_count": null,
      "metadata": {
        "colab": {
          "base_uri": "https://localhost:8080/"
        },
        "id": "baIJHJcytRIF",
        "outputId": "ce1b2e02-10fb-491b-a189-ea1b9ee6ed07"
      },
      "outputs": [
        {
          "output_type": "stream",
          "name": "stdout",
          "text": [
            "['apple', 'pear', 'orange']\n",
            "['apple', 'pear', 'orange', 'cherry']\n",
            "['apple', 'pear', 'orange', 'cherry', 4]\n"
          ]
        }
      ],
      "source": [
        "# Create a list containing strings and store it in a variable\n",
        "y=['apple','pear','orange']\n",
        "print(y)\n",
        "# Append a new string to this list\n",
        "y.append('cherry')\n",
        "print(y)\n",
        "# Append an integer to this list and print it\n",
        "y.append(4)\n",
        "print(y)"
      ]
    },
    {
      "cell_type": "markdown",
      "metadata": {
        "id": "JvyO8q5AtRIM"
      },
      "source": [
        "Note that the modifications on list objects are performed inplace, i.e.\n",
        "\n",
        "    li = [1, 2, 3]\n",
        "    li.append(4)\n",
        "    li  # => [1, 2, 3, 4]"
      ]
    },
    {
      "cell_type": "code",
      "execution_count": null,
      "metadata": {
        "colab": {
          "base_uri": "https://localhost:8080/"
        },
        "id": "aY3ZCgaKtRIO",
        "outputId": "f5e08f3d-7b31-4615-ba24-9df13a89ef36"
      },
      "outputs": [
        {
          "output_type": "stream",
          "name": "stdout",
          "text": [
            "['apple', 'pear', 'orange', 'cherry']\n"
          ]
        }
      ],
      "source": [
        "# Mixing types inside a list object can be a bad idea depending on the situation.\n",
        "# Remove the integer you just inserted in the list and print it\n",
        "y.remove(4)\n",
        "print(y)"
      ]
    },
    {
      "cell_type": "code",
      "execution_count": null,
      "metadata": {
        "colab": {
          "base_uri": "https://localhost:8080/"
        },
        "id": "ZZj4QAb7tRIU",
        "outputId": "65dd763e-42e8-47c9-ca29-b4caf4b10445"
      },
      "outputs": [
        {
          "output_type": "stream",
          "name": "stdout",
          "text": [
            "pear\n"
          ]
        }
      ],
      "source": [
        "# Print the second element of the list\n",
        "print(y[1])"
      ]
    },
    {
      "cell_type": "code",
      "execution_count": null,
      "metadata": {
        "colab": {
          "base_uri": "https://localhost:8080/"
        },
        "id": "aTKAQpM4mSVV",
        "outputId": "86a7ca7b-a572-474d-913d-678eaa1538d0"
      },
      "outputs": [
        {
          "output_type": "stream",
          "name": "stdout",
          "text": [
            "42.57\n",
            "42.56\n"
          ]
        }
      ],
      "source": [
        "x = 42.567\n",
        "# Print x with only two decimal (rounding)\n",
        "print(round(x,2))\n",
        "# Print x with only two decimal (trunking)\n",
        "x1=str(x).split('.')[0]+'.'+str(x).split('.')[1][:2]\n",
        "print(x1)"
      ]
    },
    {
      "cell_type": "markdown",
      "metadata": {
        "id": "_RKnEw4KtRIa"
      },
      "source": [
        "You can access list elements in reverse order, e.g.\n",
        "\n",
        "    li[-1]  # returns the last element of the list\n",
        "    li[-2]  # returns the second last element of the list\n",
        "    \n",
        "and so on..."
      ]
    },
    {
      "cell_type": "code",
      "execution_count": null,
      "metadata": {
        "colab": {
          "base_uri": "https://localhost:8080/"
        },
        "id": "X15yEiSotRId",
        "outputId": "aadf13a7-2db0-44b8-b757-1ef4c8c9b8bc"
      },
      "outputs": [
        {
          "output_type": "stream",
          "name": "stdout",
          "text": [
            "['apple', 'pear', 'orange', 'cherry', 'We', 'are', 'the', 'knights', 'who', 'say', 'Ni', '!']\n"
          ]
        }
      ],
      "source": [
        "# Extend your list with new_list and print it\n",
        "new_list = [\"We\", \"are\", \"the\", \"knights\", \"who\", \"say\", \"Ni\", \"!\"]\n",
        "y.extend(new_list)\n",
        "print(y)"
      ]
    },
    {
      "cell_type": "code",
      "execution_count": null,
      "metadata": {
        "colab": {
          "base_uri": "https://localhost:8080/"
        },
        "id": "i3k7EDdAtRIi",
        "outputId": "24ae76ff-f12b-4414-839b-10adfae68dce"
      },
      "outputs": [
        {
          "output_type": "stream",
          "name": "stdout",
          "text": [
            "['apple', 'pear', 'orange', 'cherry', 'We', 'are', 'the', 'knights', 'who', 'say', 'Ekke Ekke Ekke Ekke Ptang Zoo Boing', '!']\n"
          ]
        }
      ],
      "source": [
        "# Replace \"Ni\" by \"Ekke Ekke Ekke Ekke Ptang Zoo Boing\" in the list and print it\n",
        "y[-2]=\"Ekke Ekke Ekke Ekke Ptang Zoo Boing\"\n",
        "print(y)"
      ]
    },
    {
      "cell_type": "code",
      "execution_count": null,
      "metadata": {
        "colab": {
          "base_uri": "https://localhost:8080/"
        },
        "id": "2HoKEtETtRIn",
        "outputId": "309cb2ae-7b16-4983-f2ab-f9bebadbeeba"
      },
      "outputs": [
        {
          "output_type": "stream",
          "name": "stdout",
          "text": [
            "12\n"
          ]
        }
      ],
      "source": [
        "# Compute the length of the list and print it\n",
        "len_y=len(y)\n",
        "print(len_y)"
      ]
    },
    {
      "cell_type": "code",
      "execution_count": null,
      "metadata": {
        "id": "2ZziFC0QtRIt"
      },
      "outputs": [],
      "source": [
        "# What is the difference between lists and tuples?\n",
        "\"\"\"\n",
        "Tuples are immutable.\n",
        "\"\"\""
      ]
    },
    {
      "cell_type": "code",
      "execution_count": null,
      "metadata": {
        "colab": {
          "base_uri": "https://localhost:8080/"
        },
        "id": "B2zRHa3atRIx",
        "outputId": "aab09b49-a23c-49ba-c248-26da6ba8b60a"
      },
      "outputs": [
        {
          "output_type": "stream",
          "name": "stdout",
          "text": [
            "{'one': 1, 'two': 2, 'three': 3, 'four': 4, 'five': 5}\n"
          ]
        }
      ],
      "source": [
        "# Create a dictionary containing the following mapping:\n",
        "# \"one\" : 1\n",
        "# \"two\" : 2\n",
        "# etc. until you reach \"five\" : 5\n",
        "baz = {\"one\" : 1,\"two\" : 2,\"three\":3,\"four\":4,\"five\":5}\n",
        "print(baz)"
      ]
    },
    {
      "cell_type": "code",
      "execution_count": null,
      "metadata": {
        "colab": {
          "base_uri": "https://localhost:8080/"
        },
        "id": "c_Y6qcpUtRI3",
        "outputId": "aaef4d98-356d-4d4e-8c4e-21ae448a3d45"
      },
      "outputs": [
        {
          "output_type": "execute_result",
          "data": {
            "text/plain": [
              "True"
            ]
          },
          "metadata": {},
          "execution_count": 33
        }
      ],
      "source": [
        "# Check if the key \"four\" is contained in the dict\n",
        "# If four is contained in the dict, print the associated value\n",
        "'four' in baz"
      ]
    },
    {
      "cell_type": "code",
      "source": [
        "baz['four']"
      ],
      "metadata": {
        "colab": {
          "base_uri": "https://localhost:8080/"
        },
        "id": "IKmTyfyQwm5V",
        "outputId": "50ebe72d-94d0-4af9-fff5-8c1af1ea00a3"
      },
      "execution_count": null,
      "outputs": [
        {
          "output_type": "execute_result",
          "data": {
            "text/plain": [
              "4"
            ]
          },
          "metadata": {},
          "execution_count": 34
        }
      ]
    },
    {
      "cell_type": "code",
      "execution_count": null,
      "metadata": {
        "colab": {
          "base_uri": "https://localhost:8080/"
        },
        "id": "ECwOx4TJtRI9",
        "outputId": "32347736-1fdf-4c58-94f7-62bca0f9b369"
      },
      "outputs": [
        {
          "output_type": "stream",
          "name": "stdout",
          "text": [
            "['l', 'p', 'g', 'j', 'u', 'e', 'r', 'q', 'n', 'v', 'h', 'i', 's', 'o', 'f']\n"
          ]
        }
      ],
      "source": [
        "gibberish = list(\"fqfgsrhrfeqluihjgrshioprqoqeionfvnorfiqeo\")\n",
        "# Find all the unique letters contained in gibberish. Your answer should fit in one line of code\n",
        "unique_letters = list(set(gibberish))\n",
        "print(unique_letters)"
      ]
    },
    {
      "cell_type": "markdown",
      "metadata": {
        "id": "P7yBADultRJC"
      },
      "source": [
        "You should now be able to answer the following problem using dictionaries, lists and sets. Imagine you owe money to your friends because your forgot your credit card last time you went out for drinks. You want to remember how much you owe to each of them in order to refund them later. Which data structure would be useful to store this information? Use this data structure and fill it in with some debt data in the cell below:"
      ]
    },
    {
      "cell_type": "code",
      "execution_count": null,
      "metadata": {
        "id": "suyHVgJjtRJD"
      },
      "outputs": [],
      "source": [
        "debts = {\"Amber\":3,\"Jack\":5,\"Rose\":2}"
      ]
    },
    {
      "cell_type": "markdown",
      "metadata": {
        "id": "mQQSVcCHtRJI"
      },
      "source": [
        "Another party night with more people, yet you forgot your credit card again... You meet new friends who buy you drinks. Create another data structure as above with different data, i.e. include friends that were not here during the first party and new friends."
      ]
    },
    {
      "cell_type": "code",
      "execution_count": null,
      "metadata": {
        "colab": {
          "base_uri": "https://localhost:8080/"
        },
        "id": "_cjYLMvEtRJK",
        "outputId": "0d892211-319e-49a2-f2a7-6a554304871d"
      },
      "outputs": [
        {
          "output_type": "stream",
          "name": "stdout",
          "text": [
            "{'Amber': 3, 'Jack': 5, 'Rose': 2, 'Iris': 5, 'Lori': 1}\n"
          ]
        }
      ],
      "source": [
        "debts_2 = {\"Iris\":5,\"Lori\":1}\n",
        "debts.update(debts_2)\n",
        "print(debts)"
      ]
    },
    {
      "cell_type": "markdown",
      "metadata": {
        "id": "Li3vPIN7tRJP"
      },
      "source": [
        "Count the number of new friends you made that second night. Print the name of the friends who bought you drinks during the second party, but not during the first."
      ]
    },
    {
      "cell_type": "code",
      "execution_count": null,
      "metadata": {
        "colab": {
          "base_uri": "https://localhost:8080/"
        },
        "id": "1Rx2ix10tRJQ",
        "outputId": "ac0ce393-f052-4684-8cbc-561e9f409762"
      },
      "outputs": [
        {
          "output_type": "stream",
          "name": "stdout",
          "text": [
            "['Iris', 'Lori']\n",
            "2\n"
          ]
        }
      ],
      "source": [
        "new_friends = list(debts_2.keys()) # should fit in one line\n",
        "nb_new_friends = len(new_friends) # should fit in one line\n",
        "print(new_friends)\n",
        "print(nb_new_friends)"
      ]
    },
    {
      "cell_type": "markdown",
      "metadata": {
        "collapsed": true,
        "id": "fRqhthIttRJU"
      },
      "source": [
        "## 3. Control flow\n",
        "Same as before, read the corresponding section, and answer the questions below.\n",
        "You can skip the paragraph on exceptions for now."
      ]
    },
    {
      "cell_type": "code",
      "execution_count": null,
      "metadata": {
        "colab": {
          "base_uri": "https://localhost:8080/"
        },
        "id": "SZIDKiAntRJW",
        "outputId": "ea1ae57a-6bea-47bc-929a-6a87bc3f36d3"
      },
      "outputs": [
        {
          "output_type": "stream",
          "name": "stdout",
          "text": [
            "Duh...\n"
          ]
        }
      ],
      "source": [
        "# Code the following:\n",
        "# if you have made more than 5 friends that second night, \n",
        "# print \"Yay! I'm super popular!\", else, print \"Duh...\"\n",
        "if nb_new_friends > 5:\n",
        "  print(\"Yay! I'm super popular!\")\n",
        "else:\n",
        "  print(\"Duh...\") "
      ]
    },
    {
      "cell_type": "code",
      "execution_count": null,
      "metadata": {
        "colab": {
          "base_uri": "https://localhost:8080/"
        },
        "id": "x1KK30CWtRJa",
        "outputId": "9ef76d0b-9423-44c6-e045-1ac95826540a"
      },
      "outputs": [
        {
          "output_type": "stream",
          "name": "stdout",
          "text": [
            "Thanks Iris !\n",
            "Thanks Lori !\n"
          ]
        }
      ],
      "source": [
        "# Now, thank each new friend iteratively, i.e.\n",
        "# print \"Thanks <name of the friend>!\" using loops and string formatting (cf. section 1)\n",
        "for i in new_friends:\n",
        "  print (\"Thanks\", i,\"!\")"
      ]
    },
    {
      "cell_type": "code",
      "execution_count": null,
      "metadata": {
        "colab": {
          "base_uri": "https://localhost:8080/"
        },
        "id": "iNOfoXTJtRJd",
        "outputId": "fa139712-bf27-450c-9295-f1afe4d2f1e1"
      },
      "outputs": [
        {
          "output_type": "stream",
          "name": "stdout",
          "text": [
            "120\n"
          ]
        }
      ],
      "source": [
        "# Sum all the number from 0 to 15 (included) using what we've seen so far (i.e. without the function sum() )\n",
        "sum_to_fifteen = 0\n",
        "for i in range(1,16,1):\n",
        "  sum_to_fifteen = sum_to_fifteen + i\n",
        "print(sum_to_fifteen)"
      ]
    },
    {
      "cell_type": "code",
      "execution_count": null,
      "metadata": {
        "colab": {
          "base_uri": "https://localhost:8080/"
        },
        "id": "hNXGkNgitRJh",
        "outputId": "3a2b3fa9-7b15-43be-9779-40faae384761"
      },
      "outputs": [
        {
          "output_type": "stream",
          "name": "stdout",
          "text": [
            "0\n",
            "1\n",
            "2\n"
          ]
        }
      ],
      "source": [
        "# Note: you can break a loop with the break statement\n",
        "for i in range(136):\n",
        "    print(i)\n",
        "    if i >= 2:\n",
        "        break"
      ]
    },
    {
      "cell_type": "code",
      "execution_count": null,
      "metadata": {
        "colab": {
          "base_uri": "https://localhost:8080/"
        },
        "id": "1nZB8pMltRJm",
        "outputId": "74fcb185-d536-499f-c961-ea3cbcf7b644"
      },
      "outputs": [
        {
          "output_type": "stream",
          "name": "stdout",
          "text": [
            "a 0\n",
            "b 1\n",
            "c 2\n"
          ]
        }
      ],
      "source": [
        "# enumerate function can be very useful when dealing with iterators:\n",
        "for i, value in enumerate([\"a\", \"b\", \"c\"]):\n",
        "    print(value, i)"
      ]
    },
    {
      "cell_type": "markdown",
      "metadata": {
        "id": "rSpPZ8q0tRJq"
      },
      "source": [
        "## 4. Functions\n",
        "Things are becoming more interesting. Read section 4. It's ok if you don't get the args/kwargs part. Be sure to understand basic function declaration and anonymous function declaration. Higher order functions, maps, and filters will be covered during the next lab.\n",
        "\n",
        "Write a Python function that checks whether a passed string is palindrome or not. Note: a palindrome is a word, phrase, or sequence that reads the same backward and forward, e.g. \"madam\" or \"nurses run\". Hint: strings are lists of characters e.g.\n",
        "\n",
        "    a = \"abcdef\"\n",
        "    a[2] => c\n",
        "    \n",
        "If needed, here are [some tips about string manipulation](http://www.pythonforbeginners.com/basics/string-manipulation-in-python)."
      ]
    },
    {
      "cell_type": "code",
      "execution_count": null,
      "metadata": {
        "colab": {
          "base_uri": "https://localhost:8080/"
        },
        "id": "lSa99mbptRJr",
        "outputId": "51abe483-7807-4480-b798-85be90944a78"
      },
      "outputs": [
        {
          "output_type": "stream",
          "name": "stdout",
          "text": [
            "True\n",
            "True\n",
            "False\n"
          ]
        }
      ],
      "source": [
        "def isPalindrome(string_input):\n",
        "    string_input=string_input.replace(\" \", \"\")\n",
        "    for i in range(0,len(string_input),1):\n",
        "        if string_input[i]!=string_input[len(string_input)-1-i]:\n",
        "           return False\n",
        "    return True\n",
        "\n",
        "print(isPalindrome('aza'))        # Simple palindrome\n",
        "print(isPalindrome('nurses run')) # Palindrome containing a space\n",
        "print(isPalindrome('palindrome')) # Not a palindrome"
      ]
    },
    {
      "cell_type": "markdown",
      "metadata": {
        "id": "zB9qsMDJtRJv"
      },
      "source": [
        "Write a Python function to check whether a string is pangram or not. Note: pangrams are words or sentences containing every letter of the alphabet at least once. For example: \"The quick brown fox jumps over the lazy dog\".\n",
        "\n",
        "[Hint](https://docs.python.org/2/library/stdtypes.html#set-types-set-frozenset)"
      ]
    },
    {
      "cell_type": "code",
      "execution_count": null,
      "metadata": {
        "colab": {
          "base_uri": "https://localhost:8080/"
        },
        "id": "klw8o3FDtRJx",
        "outputId": "b13920df-dfea-4749-e019-a33f9ed71b01"
      },
      "outputs": [
        {
          "output_type": "stream",
          "name": "stdout",
          "text": [
            "True\n",
            "False\n"
          ]
        }
      ],
      "source": [
        "import string\n",
        "\n",
        "# In this function, \"alphabet\" argument has a default value: string.ascii_lowercase\n",
        "# string.ascii_lowercase contains all the letters in lowercase.\n",
        "def ispangram(string_input, alphabet=string.ascii_lowercase):  \n",
        "    for character in alphabet:\n",
        "      if character not in string_input.lower():\n",
        "            return False\n",
        "    return True\n",
        "   \n",
        "print(ispangram('The quick brown fox jumps over the lazy dog'))\n",
        "print(ispangram('The quick red fox jumps over the lazy dog'))"
      ]
    },
    {
      "cell_type": "markdown",
      "metadata": {
        "collapsed": true,
        "id": "hIXo-hJ_tRJ0"
      },
      "source": [
        "### Python lambda expressions\n",
        "\n",
        "When evaluated, lambda expressions return an anonymous function, i.e. a function that is not bound to any variable (hence the \"anonymous\"). However, it is possible to assign the function to a variable. Lambda expressions are particularly useful when you need to pass a simple function into another function. To create lambda functions, we use the following syntax\n",
        "\n",
        "    lambda argument1, argument2, argument3, etc. : body_of_the_function\n",
        "\n",
        "For example, a function which takes a number and returns its square would be\n",
        "\n",
        "    lambda x: x**2\n",
        "    \n",
        "A function that takes two numbers and returns their sum:\n",
        "\n",
        "    lambda x, y: x + y\n",
        "    \n",
        "`lambda` generates a function and returns it, while `def` generates a function and assigns it to a name.  The function returned by `lambda` also automatically returns the value of its expression statement, which reduces the amount of code that needs to be written.\n",
        "\n",
        "Here are some additional references that explain lambdas: [Lambda Functions](http://www.secnetix.de/olli/Python/lambda_functions.hawk), [Lambda Tutorial](https://pythonconquerstheuniverse.wordpress.com/2011/08/29/lambda_tutorial/), and [Python Functions](http://www.bogotobogo.com/python/python_functions_lambda.php).\n",
        "\n",
        "Here is an example:"
      ]
    },
    {
      "cell_type": "code",
      "execution_count": 7,
      "metadata": {
        "id": "Qag42QL7tRJ1",
        "colab": {
          "base_uri": "https://localhost:8080/"
        },
        "outputId": "4a970fbc-e44e-41d3-d06e-027f3f70b22b"
      },
      "outputs": [
        {
          "output_type": "stream",
          "name": "stdout",
          "text": [
            "<class 'function'>\n",
            "<function add_s at 0x7fca6df91710>\n",
            "dogs\n"
          ]
        }
      ],
      "source": [
        "# Function declaration using def\n",
        "def add_s(x):\n",
        "    return x + 's'\n",
        "\n",
        "print (type(add_s))\n",
        "print (add_s)\n",
        "print (add_s('dog'))"
      ]
    },
    {
      "cell_type": "code",
      "execution_count": 8,
      "metadata": {
        "id": "6MVqBJDXtRJ4",
        "colab": {
          "base_uri": "https://localhost:8080/"
        },
        "outputId": "cb831f39-bc0a-4903-b513-7d8bae3a66c3"
      },
      "outputs": [
        {
          "output_type": "stream",
          "name": "stdout",
          "text": [
            "<class 'function'>\n",
            "<function <lambda> at 0x7fca6df91050>\n",
            "dogs\n"
          ]
        }
      ],
      "source": [
        "# Same function declared as a lambda\n",
        "add_s_lambda = lambda x: x + 's'\n",
        "print (type(add_s_lambda))\n",
        "print (add_s_lambda)  # Note that the function shows its name as <lambda>\n",
        "print (add_s_lambda('dog'))"
      ]
    },
    {
      "cell_type": "code",
      "execution_count": 9,
      "metadata": {
        "id": "mOp4Ju79tRJ8",
        "colab": {
          "base_uri": "https://localhost:8080/"
        },
        "outputId": "dcc529ed-0cf3-433e-d392-ad44809e84ec"
      },
      "outputs": [
        {
          "output_type": "stream",
          "name": "stdout",
          "text": [
            "10\n",
            "True\n"
          ]
        }
      ],
      "source": [
        "# Code a function using a lambda expression which takes\n",
        "# a number and returns this number multiplied by two.\n",
        "multiply_by_two = lambda x: x*2\n",
        "print (multiply_by_two(5))\n",
        "\n",
        "print(multiply_by_two(10) == 20)"
      ]
    },
    {
      "cell_type": "markdown",
      "metadata": {
        "id": "nJlViCP6tRKI"
      },
      "source": [
        "Observe the behavior of the following code:"
      ]
    },
    {
      "cell_type": "code",
      "execution_count": 10,
      "metadata": {
        "id": "BaBVXHRftRKJ",
        "colab": {
          "base_uri": "https://localhost:8080/"
        },
        "outputId": "f16d7c48-4be1-4538-832b-2ca43eb4f83b"
      },
      "outputs": [
        {
          "output_type": "stream",
          "name": "stdout",
          "text": [
            "3\n",
            "-1\n"
          ]
        }
      ],
      "source": [
        "def add(x, y):\n",
        "    \"\"\"Add two values\"\"\"\n",
        "    return x + y\n",
        "\n",
        "def sub(x, y):\n",
        "    \"\"\"Substract y from x\"\"\"\n",
        "    return x - y\n",
        "\n",
        "functions = [add, sub]\n",
        "print(functions[0](1, 2))\n",
        "print(functions[1](3, 4))"
      ]
    },
    {
      "cell_type": "markdown",
      "metadata": {
        "id": "3ULfcjzvtRKM"
      },
      "source": [
        "Code the same functionality, using lambda expressions:"
      ]
    },
    {
      "cell_type": "code",
      "execution_count": 15,
      "metadata": {
        "id": "kyrrjXjptRKN",
        "colab": {
          "base_uri": "https://localhost:8080/"
        },
        "outputId": "d7e1a210-9c26-451b-8673-113d2aaff8da"
      },
      "outputs": [
        {
          "output_type": "stream",
          "name": "stdout",
          "text": [
            "True\n",
            "True\n"
          ]
        }
      ],
      "source": [
        "lambda_functions = [lambda x, y : x + y,  lambda x, y : x - y]\n",
        "\n",
        "print(lambda_functions[0](1, 2) == 3)\n",
        "print(lambda_functions[1](3, 4) == -1)"
      ]
    },
    {
      "cell_type": "markdown",
      "metadata": {
        "id": "ED1XVrZxtRKR"
      },
      "source": [
        "Lambda expressions can be used to generate functions that take in zero or more parameters. The syntax for `lambda` allows for multiple ways to define the same function.  For example, we might want to create a function that takes in a single parameter, where the parameter is a tuple consisting of two values, and the function adds the two values.  The syntax could be either \n",
        "\n",
        "    lambda x: x[0] + x[1]\n",
        "    \n",
        "or \n",
        "    \n",
        "    lambda (x, y): x + y\n",
        "\n",
        "If we called either function on the tuple `(1, 2)` it would return `3`."
      ]
    },
    {
      "cell_type": "code",
      "execution_count": 21,
      "metadata": {
        "id": "s1OosKSnmSVi",
        "colab": {
          "base_uri": "https://localhost:8080/"
        },
        "outputId": "866049f6-d145-4e51-dd0d-6949bfa5e8f2"
      },
      "outputs": [
        {
          "output_type": "stream",
          "name": "stdout",
          "text": [
            "add_two_1((1,2), (3,4)) = (4, 6)\n"
          ]
        }
      ],
      "source": [
        "# Example:\n",
        "add_two_1 = lambda x, y: (x[0] + y[0], x[1] + y[1])\n",
        "print('add_two_1((1,2), (3,4)) = {0}'.format(add_two_1((1,2), (3,4))))"
      ]
    },
    {
      "cell_type": "code",
      "source": [
        "add_two_2 = lambda (x0, x1), (y0, y1): (x0 + y0, x1 + y1)\n",
        "print('add_two_2((1,2), (3,4)) = {0}'.format(add_two_2((1,2), (3,4))))"
      ],
      "metadata": {
        "id": "N7C8WjA58a3f"
      },
      "execution_count": null,
      "outputs": []
    },
    {
      "cell_type": "code",
      "execution_count": 27,
      "metadata": {
        "id": "GDn7Z7dstRKV",
        "colab": {
          "base_uri": "https://localhost:8080/"
        },
        "outputId": "75f2c271-b3d4-44c1-e22c-8a60609d8f5f"
      },
      "outputs": [
        {
          "output_type": "stream",
          "name": "stdout",
          "text": [
            "True\n"
          ]
        }
      ],
      "source": [
        "# Use both syntaxes to create a function that takes in a tuple of three values and reverses their order\n",
        "# E.g. (1, 2, 3) => (3, 2, 1)\n",
        "reverse1 = lambda x: (x[2],x[1],x[0])\n",
        "print(reverse1((1, 2, 3)) == (3, 2, 1))"
      ]
    },
    {
      "cell_type": "code",
      "source": [
        "reverse2 = lambda (x0, x1, x2): (x2, x1, x0)\n",
        "print(reverse2((1, 2, 3)) == (3, 2, 1))"
      ],
      "metadata": {
        "id": "YhOUpSyZ8oKZ"
      },
      "execution_count": null,
      "outputs": []
    },
    {
      "cell_type": "markdown",
      "metadata": {
        "id": "GuRsJH2btRKY"
      },
      "source": [
        "Lambda expressions allow you to reduce the size of your code, but they are limited to simple logic. The following Python keywords refer to statements that cannot be used in a lambda expression: `assert`, `pass`, `del`, `print`, `return`, `yield`, `raise`, `break`, `continue`, `import`, `global`, and `exec`.  Assignment statements (`=`) and augmented assignment statements (e.g. `+=`) cannot be used either. If more complex logic is necessary, use `def` in place of `lambda`."
      ]
    },
    {
      "cell_type": "markdown",
      "metadata": {
        "id": "C8oYTUJDtRKZ"
      },
      "source": [
        "## 5. Classes\n",
        "Classes allow you to create objects. Object Oriented Programming (OOP) can be a very powerful paradigm. If done well, OOP  allows you to improve the modularity and reusability of your code, but that's the subject of an entire other course. \n",
        "Here is a *very* short introduction to it.\n",
        "\n",
        "By convention, class names are written in camel case, e.g. `MyBeautifulClass`, while variable and function names are written in snake case, e.g. `my_variable`, `my_very_complex_function`\n",
        "\n",
        "Classes contain methods (i.e. functions owned by the class) and attributes (i.e. variables owned by the class). \n",
        "When you define a class, first thing to do is to define a specific method, the constructor. In Python, the constructor is called `__init__`. This method is used to create the instances of an object. Example:\n",
        "\n",
        "    class MyClass:\n",
        "    \n",
        "        def __init__(self, first_attribute, second_attribute):\n",
        "            self.first_attribute = first_attribute\n",
        "            self.second_attribute = second_attribute\n",
        "            \n",
        "This class has two attributes, and one (hidden) method, the constructor. To create an instance of this class, one simply does:\n",
        "\n",
        "    instance_example = MyClass(1, \"foo\")\n",
        "    \n",
        "Then, the attributes can easily be accessed to:\n",
        "\n",
        "    instance_example.first_attribute  # => 1\n",
        "    instance_example.first_attribute  # => \"foo\""
      ]
    },
    {
      "cell_type": "code",
      "execution_count": 28,
      "metadata": {
        "id": "keBR9vgQtRKc",
        "colab": {
          "base_uri": "https://localhost:8080/"
        },
        "outputId": "35820f8a-15a0-40ca-c388-8b40de1215f3"
      },
      "outputs": [
        {
          "output_type": "stream",
          "name": "stdout",
          "text": [
            "1\n",
            "3\n"
          ]
        }
      ],
      "source": [
        "# Run this example\n",
        "class MyClass:\n",
        "    \n",
        "    def __init__(self, first_attribute, second_attribute):\n",
        "        self.first_attribute = first_attribute\n",
        "        self.second_attribute = second_attribute\n",
        "            \n",
        "instance_example = MyClass(1, \"foo\") \n",
        "print(instance_example.first_attribute)\n",
        "instance_example.__init__(3,4)  # In real life, it is rare to reinit an object.\n",
        "print(instance_example.first_attribute)"
      ]
    },
    {
      "cell_type": "markdown",
      "metadata": {
        "id": "8AO18Rz7tRKf"
      },
      "source": [
        "`self` denotes the object itself. When you declare a method, you have to pass `self` as the first argument of the method:\n",
        "\n",
        "class MyClass:\n",
        "    \n",
        "    def __init__(self, first_attribute, second_attribute):\n",
        "        self.first_attribute = first_attribute\n",
        "        self.second_attribute = second_attribute\n",
        "   \n",
        "    def method_baz(self):\n",
        "        print \"Hello! I'm a method! I have two attributes, initialized with values %s, %s\"%(self.first_attribute, self.second_attribute)\n",
        "        \n",
        "indeed, when we call\n",
        "    \n",
        "    instance_example = MyClass(1, \"foo\") \n",
        "    instance_example.method_baz()\n",
        "    \n",
        "the `self` object is implicitely passed to `method_baz`as an argument. Think of the method call as the following function call\n",
        "\n",
        "    method_baz(instance_example)"
      ]
    },
    {
      "cell_type": "code",
      "execution_count": 29,
      "metadata": {
        "id": "oZde0pPntRKg",
        "colab": {
          "base_uri": "https://localhost:8080/"
        },
        "outputId": "b7fabb5a-c6ab-4560-8426-5480dfcad193"
      },
      "outputs": [
        {
          "output_type": "stream",
          "name": "stdout",
          "text": [
            "Hello! I'm a method! My class has two attributes, of value 1, foo\n"
          ]
        }
      ],
      "source": [
        "# Run this example\n",
        "class MyClass:\n",
        "    \n",
        "    def __init__(self, first_attribute, second_attribute):\n",
        "        self.first_attribute = first_attribute\n",
        "        self.second_attribute = second_attribute\n",
        "    \n",
        "    def class_method(self):\n",
        "        print(\"Hello! I'm a method! My class has two attributes, of value {0}, {1}\".format(self.first_attribute, self.second_attribute))\n",
        "            \n",
        "instance_example = MyClass(1, \"foo\") \n",
        "# Call to a class method\n",
        "instance_example.class_method()"
      ]
    },
    {
      "cell_type": "markdown",
      "metadata": {
        "id": "fLUmPnKntRKo"
      },
      "source": [
        "Now, the tricky part. You can declare **static** methods, i.e. methods that don't need to access the data contained in `self` to work properly. Such methods do not require the `self` argument as they do not use any instance data. They are implemented in the following way:"
      ]
    },
    {
      "cell_type": "code",
      "execution_count": 30,
      "metadata": {
        "id": "ZfkEAQbGtRKp",
        "colab": {
          "base_uri": "https://localhost:8080/"
        },
        "outputId": "b4d41694-ebee-4dfb-839c-164b0cc9591e"
      },
      "outputs": [
        {
          "output_type": "stream",
          "name": "stdout",
          "text": [
            "Hello! I'm a method! My class has two attributes, of value 1, foo\n",
            "I'm a static method!\n"
          ]
        }
      ],
      "source": [
        "# Run this example\n",
        "class MyClass:\n",
        "    \n",
        "    def __init__(self, first_attribute, second_attribute):\n",
        "        self.first_attribute = first_attribute\n",
        "        self.second_attribute = second_attribute\n",
        "    \n",
        "    def class_method(self):\n",
        "        print(\"Hello! I'm a method! My class has two attributes, of value {0}, {1}\".format(self.first_attribute, self.second_attribute))\n",
        "         \n",
        "    @staticmethod\n",
        "    def static_method():\n",
        "        print(\"I'm a static method!\")\n",
        "            \n",
        "instance_example = MyClass(1, \"foo\") \n",
        "# Call to a class method\n",
        "instance_example.class_method()\n",
        "# Call to a static method\n",
        "instance_example.static_method()"
      ]
    },
    {
      "cell_type": "code",
      "execution_count": 31,
      "metadata": {
        "id": "kjsCfutptRKu",
        "colab": {
          "base_uri": "https://localhost:8080/"
        },
        "outputId": "39f941be-a1ea-49d7-9565-43bf82d3cfe4"
      },
      "outputs": [
        {
          "output_type": "stream",
          "name": "stdout",
          "text": [
            "I'm a static method!\n"
          ]
        }
      ],
      "source": [
        "# Call to a static method without class instanciation\n",
        "MyClass.static_method()"
      ]
    },
    {
      "cell_type": "code",
      "execution_count": null,
      "metadata": {
        "id": "WjIceCletRKy"
      },
      "outputs": [],
      "source": [
        "# Call to a class method without class instanciation: raises an error\n",
        "# MyClass.class_method()\n",
        "# => TypeError: unbound method class_method() must be called with MyClass instance as first argument (got nothing instead)"
      ]
    },
    {
      "cell_type": "markdown",
      "metadata": {
        "id": "WrGtoiEptRK1"
      },
      "source": [
        "You can set attributes without passing them to the constructor:"
      ]
    },
    {
      "cell_type": "code",
      "execution_count": 32,
      "metadata": {
        "id": "1EtLi3gRtRK2",
        "colab": {
          "base_uri": "https://localhost:8080/"
        },
        "outputId": "390922da-8109-4435-92c7-39a07a96917b"
      },
      "outputs": [
        {
          "output_type": "stream",
          "name": "stdout",
          "text": [
            "42\n"
          ]
        }
      ],
      "source": [
        "# Run this example\n",
        "class MyClass:\n",
        "    \n",
        "    default_attribute = 42\n",
        "    \n",
        "    def __init__(self, first_attribute, second_attribute):\n",
        "        self.first_attribute = first_attribute\n",
        "        self.second_attribute = second_attribute\n",
        "    \n",
        "    def method_baz(self):\n",
        "        print(\"Hello! I'm a method! I have two attributes, initialized with values %s, %s\"%(self.first_attribute, self.second_attribute))\n",
        "        \n",
        "    @staticmethod\n",
        "    def static_method():\n",
        "        print(\"I'm a static method!\")\n",
        "            \n",
        "instance_example = MyClass(1, \"foo\") \n",
        "print(instance_example.default_attribute)"
      ]
    },
    {
      "cell_type": "code",
      "execution_count": 1,
      "metadata": {
        "id": "9f2LfrfEtRK6",
        "colab": {
          "base_uri": "https://localhost:8080/"
        },
        "outputId": "50a26cb7-9830-4894-d5cb-7012746c4f43"
      },
      "outputs": [
        {
          "output_type": "stream",
          "name": "stdout",
          "text": [
            "True\n",
            "True\n",
            "True\n",
            "True\n"
          ]
        }
      ],
      "source": [
        "# Write a Python class named Rectangle which is \n",
        "# constructed by a length and width \n",
        "# and has two class methods\n",
        "# - \"rectange_area\", which computes the area of a rectangle.\n",
        "# - \"rectangle_perimeter\", which computes the perimeter of a rectangle.\n",
        "#\n",
        "# The Rectangle class should have an attribute n_edges equal to 4\n",
        "# which should not be initialized by the __init__ constructor.\n",
        "#\n",
        "# Declare a static method \"talk\" that returns \"Do you like rectangles?\" when called\n",
        "\n",
        "class Rectangle: \n",
        "    \n",
        "    n_edges = 4\n",
        "    \n",
        "    def __init__(self, length, width):\n",
        "      self.length = length\n",
        "      self.width = width\n",
        "\n",
        "    def rectangle_area(self):\n",
        "      return self.length * self.width\n",
        "    \n",
        "    def rectangle_perimeter(self):\n",
        "      return (self.length + self.width) * 2\n",
        "    \n",
        "    @staticmethod\n",
        "    def talk():\n",
        "      return \"Do you like rectangles?\"\n",
        "\n",
        "\n",
        "new_rectangle = Rectangle(12, 10)\n",
        "print(new_rectangle.rectangle_area() == 120)# rectangle_area method\n",
        "print(new_rectangle.rectangle_perimeter() == 44) # rectangle_area method\n",
        "print(Rectangle.n_edges == 4) # constant attibute\n",
        "print(Rectangle.talk() == \"Do you like rectangles?\") # Rectangle talk static method"
      ]
    },
    {
      "cell_type": "markdown",
      "metadata": {
        "id": "fIFY86HCmSVm"
      },
      "source": [
        "In machine learning, when you're manipulating large images, you often need to break the diwn into smaller, more manageable images.\n",
        "- Modify the previous rectangle class to include a list of patches.\n",
        "- Write a Python class named Patch which is a square of size 1x1. Each patch should be identified by his coordinates.\n",
        "- Use the [\\_\\_iter\\_\\_](https://www.datacamp.com/community/tutorials/python-iterator-tutorial) function to create a get_next_patch() in the Rectangle class."
      ]
    },
    {
      "cell_type": "code",
      "execution_count": 2,
      "metadata": {
        "id": "HzRPs2fymSVm",
        "colab": {
          "base_uri": "https://localhost:8080/"
        },
        "outputId": "f1c0c412-6096-43f7-96c9-79240fc07096"
      },
      "outputs": [
        {
          "output_type": "stream",
          "name": "stdout",
          "text": [
            "[1, 1]\n",
            "[1, 2]\n",
            "[1, 3]\n",
            "[1, 4]\n",
            "[1, 5]\n",
            "[2, 1]\n",
            "[2, 2]\n",
            "[2, 3]\n",
            "[2, 4]\n",
            "[2, 5]\n"
          ]
        }
      ],
      "source": [
        "class Rectangle :\n",
        "\n",
        "    n_edges = 4\n",
        "    \n",
        "    def __init__(self, length, width):\n",
        "      self.length = length\n",
        "      self.width = width\n",
        "\n",
        "    def area(self):\n",
        "      self.area = self.length * self.width\n",
        "      return self.area \n",
        "\n",
        "\n",
        "class Patch(object) :\n",
        "    def __init__(self, object):\n",
        "      self.object = object\n",
        "      self.max = self.object.area()\n",
        "      self.patch = 0\n",
        "\n",
        "    def __iter__(self):\n",
        "      return self\n",
        "    \n",
        "    def __next__(self):\n",
        "      if self.patch >= self.max:\n",
        "        raise StopIteration\n",
        "      else:\n",
        "        self.patch += 1\n",
        "        self.x = ((self.patch-1)//self.object.width) + 1\n",
        "        self.y = self.patch - ((self.x-1)*self.object.width)\n",
        "        return list((self.x,self.y))\n",
        "\n",
        "rectangle = Patch(Rectangle(2,5))\n",
        "\n",
        "for patch in rectangle :\n",
        "    print(patch)\n",
        "# should print all the patches in your rectangle"
      ]
    },
    {
      "cell_type": "code",
      "execution_count": null,
      "metadata": {
        "id": "zLo1690Jw0au"
      },
      "outputs": [],
      "source": [
        "Use the same approach to create two classes :\n",
        "- Sentence which is a list of words\n",
        "- Word which encapsulate a string with a specific order within the sentence\n",
        "Implement both [\\_\\_str\\_\\_](https://docs.python.org/3/reference/datamodel.html?highlight=__str__#object.__str__) and [\\_\\_repr\\_\\_](https://docs.python.org/3/reference/datamodel.html?highlight=__str__#object.__repr__) for both classes. `__str__` should be readable when `__repr__` should offer you information to helps you debug.\n",
        "In Natural Language Processing you'll use a lot of n-grams (which is the set of *n* sequential words). So you should implement a get_next_bigrams() method in the Sentence class. For instance give the sentence \"My name is Brian\", it should return an element of the list of bigrams ```[\"My name\", \"name is\", \"is Brian\"]```"
      ]
    },
    {
      "cell_type": "code",
      "execution_count": 25,
      "metadata": {
        "id": "UeYsOjtRmSVn",
        "colab": {
          "base_uri": "https://localhost:8080/"
        },
        "outputId": "45624712-10c3-45cd-dc14-7810c45582e9"
      },
      "outputs": [
        {
          "output_type": "stream",
          "name": "stdout",
          "text": [
            "My\n",
            "name\n",
            "is\n",
            "Brian\n"
          ]
        }
      ],
      "source": [
        "import reprlib\n",
        "import re\n",
        "import nltk\n",
        "from nltk import bigrams\n",
        "\n",
        "RE_WORD = re.compile('\\w+')\n",
        "\n",
        "class Sentence :\n",
        "    def __init__(self,text):\n",
        "      self.text = text\n",
        "      self.words = RE_WORD.findall(text)\n",
        "      self.index = 0\n",
        "\n",
        "    def __repr__(self):\n",
        "      return 'Sentence(%s)' % reprlib.repr(self.text)\n",
        "\n",
        "    def get_next_bigrams(self):\n",
        "      Bigrams = bigrams(self.text)\n",
        "      return Bigrams\n",
        "\n",
        "    def __iter__(self):\n",
        "      return Word(self.words)\n",
        "\n",
        "class Word :\n",
        "    def __init__(self,words):\n",
        "      self.words = words\n",
        "      self.index = 0\n",
        "\n",
        "    def __next__(self):\n",
        "      try:\n",
        "       word = self.words[self.index]\n",
        "      except IndexError:\n",
        "        raise StopIteration()\n",
        "      self.index +=1\n",
        "      return word\n",
        "\n",
        "    def __iter__(self):\n",
        "      return self\n",
        "\n",
        "s = Sentence(\"My name is Brian.\")\n",
        "for i in iter(s):\n",
        "  print(i)"
      ]
    },
    {
      "cell_type": "code",
      "execution_count": null,
      "metadata": {
        "id": "9ZJc_Iu_tRLC"
      },
      "outputs": [],
      "source": [
        "# 6. Modules\n",
        "Finally one really important part of python is the ability to create modules.\n",
        "Read https://docs.python.org/fr/3/tutorial/modules.html and create a module named geo with the classes Rectangle & Patch.\n",
        "Import the ```geo``` module and demonstrate the different calls.\n",
        "\n",
        "Repeat the operation with an ```NLP``` module to encapsulate the classes Sentence and Word.\n",
        "In Natural Language Processing you'll use a lot of n-grams (which is the set of *n* sequential words). So you should implement a ```get_bigrams(sentence)``` method who will return a list of bigrams."
      ]
    },
    {
      "cell_type": "code",
      "execution_count": 12,
      "metadata": {
        "id": "KZzHLRR5mSVn",
        "colab": {
          "base_uri": "https://localhost:8080/"
        },
        "outputId": "ef8807ba-ffcf-4625-e99b-38e4ffcf2aeb"
      },
      "outputs": [
        {
          "output_type": "stream",
          "name": "stdout",
          "text": [
            "10\n",
            "[1, 1]\n",
            "[1, 2]\n",
            "[1, 3]\n",
            "[1, 4]\n",
            "[1, 5]\n",
            "[2, 1]\n",
            "[2, 2]\n",
            "[2, 3]\n",
            "[2, 4]\n",
            "[2, 5]\n"
          ]
        }
      ],
      "source": [
        "import geo \n",
        "\n",
        "rectangle = geo.Rectangle(2,5)\n",
        "patch = geo.Patch(rectangle)\n",
        "\n",
        "print(rectangle.area)\n",
        "\n",
        "for patch in patch :\n",
        "    print(patch)"
      ]
    },
    {
      "cell_type": "code",
      "execution_count": 33,
      "metadata": {
        "id": "NFrLS199mSVn",
        "colab": {
          "base_uri": "https://localhost:8080/"
        },
        "outputId": "de2745de-0d05-4873-a2cb-f457d1ac1115"
      },
      "outputs": [
        {
          "output_type": "stream",
          "name": "stdout",
          "text": [
            "<bound method Sentence.get_next_bigrams of Sentence('My name is Brian')>\n",
            "['My', 'name', 'is', 'Brian']\n"
          ]
        }
      ],
      "source": [
        "import nlp\n",
        "\n",
        "def get_next_bigrams(sentence):\n",
        "    Bigrams = bigrams(sentence)\n",
        "    return Bigrams\n",
        "\n",
        "test_sentence = nlp.Sentence(\"My name is Brian\")\n",
        "test_word = nlp.Word(test_sentence)\n",
        "\n",
        "print(test_sentence.get_next_bigrams)\n",
        "print(test_sentence.words)"
      ]
    },
    {
      "cell_type": "markdown",
      "metadata": {
        "id": "j90JmRt5mSVo"
      },
      "source": [
        "# 7. Coding style\n",
        "\n",
        "You'll often ask yourself about which letters should be capital or if you should use _ or other characters.\n",
        "\n",
        "To help you decide, python comes with PEP-8 which is a set of recommandation.\n",
        "\n",
        "It is highly advised to read PEP-8 and to apply the rules whenever it's applicable.\n",
        "\n",
        "You'll get point for style in your code (I mean, you will lose points if the code is not readable).\n",
        "\n",
        "Fortunately, [the rules of PEP-8 are not perfect and should not always be followed](https://www.youtube.com/watch?v=wf-BqAjZb8M)."
      ]
    },
    {
      "cell_type": "code",
      "execution_count": null,
      "metadata": {
        "id": "SLYPR68AmSVo"
      },
      "outputs": [],
      "source": [
        "# You should create a github account before the next session :\n",
        "student_1_github_login = ???\n",
        "student_2_github_login = ???"
      ]
    },
    {
      "cell_type": "markdown",
      "metadata": {
        "id": "m5UTrCzjtRLF"
      },
      "source": [
        "Congratulations, you've reched the end of this notebook. =)"
      ]
    }
  ]
}